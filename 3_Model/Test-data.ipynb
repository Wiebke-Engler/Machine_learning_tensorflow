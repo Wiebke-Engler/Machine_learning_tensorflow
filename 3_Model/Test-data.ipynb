{
 "cells": [
  {
   "cell_type": "code",
   "execution_count": 29,
   "id": "b09b878d",
   "metadata": {},
   "outputs": [],
   "source": [
    "import pandas as pd\n",
    "import numpy as np\n",
    "import matplotlib.pyplot as plt"
   ]
  },
  {
   "cell_type": "code",
   "execution_count": 30,
   "id": "2c8f57c4",
   "metadata": {},
   "outputs": [
    {
     "name": "stdout",
     "output_type": "stream",
     "text": [
      "0.1016360455383258\n",
      "0.0056965838609092\n",
      "0.5014602096662629\n",
      "0.0011499570849353\n",
      "22.00190520352273\n",
      "31.580453626578247\n",
      "25.039259783776032\n",
      "35.97944973049212\n"
     ]
    }
   ],
   "source": [
    "df = pd.read_csv('/workspaces/Machine_learning_tensorflow/1_DatasetCharacteristics/Data_final.csv')\n",
    "print(np.min(df['Human Activity Index']))\n",
    "print(np.min(df['Climate Change Impact']))\n",
    "print(np.min(df['Sonar Radar Detection']))\n",
    "print(np.min(df['Looting Risk (%)']))\n",
    "print(np.min(df['Latitude']))\n",
    "print(np.max(df['Latitude']))\n",
    "print(np.min(df['Longitude']))\n",
    "print(np.max(df['Longitude']))\n"
   ]
  },
  {
   "cell_type": "code",
   "execution_count": 31,
   "id": "a7b30b73",
   "metadata": {},
   "outputs": [
    {
     "name": "stdout",
     "output_type": "stream",
     "text": [
      "    Latitude  Longitude  Human Activity Index  Climate Change Impact  \\\n",
      "0  27.707080  35.475745              0.011873               0.000644   \n",
      "1  26.834726  29.301203              0.053621               0.004730   \n",
      "2  29.765643  35.375466              0.075492               0.002034   \n",
      "3  24.897331  34.933751              0.058717               0.003407   \n",
      "4  22.962340  30.809070              0.093319               0.000782   \n",
      "\n",
      "   Sonar Radar Detection  Looting Risk (%)  Ptolomaer  Erste Zwischenzeit  \\\n",
      "0               0.106439          0.000657        0.0                 0.0   \n",
      "1               0.452943          0.001102        0.0                 0.0   \n",
      "2               0.099817          0.000217        0.0                 0.0   \n",
      "3               0.319127          0.000076        0.0                 0.0   \n",
      "4               0.007719          0.000607        0.0                 0.0   \n",
      "\n",
      "   Antike  Spätzeit  ...  Hieratisch  Kalkstein  Gips  Gold  Holz  Sandstein  \\\n",
      "0     0.0       0.0  ...         0.0        0.0   0.0   0.0   0.0        0.0   \n",
      "1     0.0       0.0  ...         0.0        0.0   0.0   0.0   0.0        0.0   \n",
      "2     0.0       0.0  ...         0.0        0.0   0.0   0.0   0.0        0.0   \n",
      "3     0.0       0.0  ...         0.0        0.0   0.0   0.0   0.0        0.0   \n",
      "4     0.0       0.0  ...         0.0        0.0   0.0   0.0   0.0        0.0   \n",
      "\n",
      "   Lehm  Granit  Ziegel  AI Prediction Score  \n",
      "0   0.0     0.0     0.0             9.372003  \n",
      "1   0.0     0.0     0.0            23.383123  \n",
      "2   0.0     0.0     0.0            49.832273  \n",
      "3   0.0     0.0     0.0            47.292763  \n",
      "4   0.0     0.0     0.0            30.325277  \n",
      "\n",
      "[5 rows x 31 columns]\n"
     ]
    }
   ],
   "source": [
    "#Random_human = np.random.uniform(0, 0.1016360455383258)\n",
    "Random_human=np.random.uniform(low=0, high=0.1016360455383258, size=(50,))\n",
    "Random_climate=np.random.uniform(low=0, high=0.0056965838609092, size=(50,))\n",
    "Random_sonar=np.random.uniform(low=0, high=0.5014602096662629, size=(50,))\n",
    "Random_looting=np.random.uniform(low=0, high=0.0011499570849353, size=(50,))\n",
    "Random_latitude=np.random.uniform(low=22.00190520352273, high=31.580453626578247, size=(50,))\n",
    "Random_longitude=np.random.uniform(low=25.039259783776032, high=35.97944973049212, size=(50,))\n",
    "Random_ai=np.random.uniform(low=0, high=50, size=(50,))\n",
    "zeros=np.zeros(50)\n",
    "#df2 = pd.DataFrame(np.array([Random_human], [zeros], [zeros]),\n",
    " #                  columns=['a', 'b', 'c'])\n",
    "d = {'Latitude': Random_latitude,'Longitude': Random_longitude,'Human Activity Index': Random_human,'Climate Change Impact': Random_climate,'Sonar Radar Detection': Random_sonar,\n",
    "     'Looting Risk (%)': Random_looting, 'Ptolomaer': zeros,'Erste Zwischenzeit': zeros ,'Antike': zeros, 'Spätzeit': zeros, 'Dritte Zwischenzeit': zeros, 'Neues Reich': zeros,\n",
    "     'Zweite Zwischenzeit': zeros,'Römisch': zeros,'Mittleres Reich': zeros,'Bronze': zeros,'Demotisch': zeros,'Griechisch': zeros,'Koptisch': zeros,'Hieroglyphen': zeros, 'Keilschrift': zeros,\n",
    "     'Hieratisch': zeros,'Kalkstein': zeros,'Gips': zeros,'Gold': zeros,'Holz': zeros,'Sandstein': zeros,'Lehm': zeros,'Granit': zeros,'Ziegel': zeros, 'AI Prediction Score': Random_ai}\n",
    "df2=pd.DataFrame(data=d)\n",
    "\n",
    "print(df2.head())"
   ]
  },
  {
   "cell_type": "code",
   "execution_count": 32,
   "id": "16a8b1bc",
   "metadata": {},
   "outputs": [
    {
     "name": "stdout",
     "output_type": "stream",
     "text": [
      "Daten erfolgreich erweitert und in /workspaces/Machine_learning_tensorflow/3_Model/Data_test.csv gespeichert.\n"
     ]
    }
   ],
   "source": [
    "# CSV-Datei speichern\n",
    "\n",
    "output_file = \"/workspaces/Machine_learning_tensorflow/3_Model/Data_test.csv\"\n",
    "df2.to_csv(output_file, index=False)\n",
    "\n",
    "print(f\"Daten erfolgreich erweitert und in {output_file} gespeichert.\")"
   ]
  }
 ],
 "metadata": {
  "kernelspec": {
   "display_name": "Python 3",
   "language": "python",
   "name": "python3"
  },
  "language_info": {
   "codemirror_mode": {
    "name": "ipython",
    "version": 3
   },
   "file_extension": ".py",
   "mimetype": "text/x-python",
   "name": "python",
   "nbconvert_exporter": "python",
   "pygments_lexer": "ipython3",
   "version": "3.12.1"
  }
 },
 "nbformat": 4,
 "nbformat_minor": 5
}
